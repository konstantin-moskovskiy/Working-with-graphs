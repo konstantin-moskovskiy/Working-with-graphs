{
 "nbformat": 4,
 "nbformat_minor": 0,
 "metadata": {
  "colab": {
   "provenance": []
  },
  "kernelspec": {
   "name": "python3",
   "display_name": "Python 3"
  },
  "language_info": {
   "name": "python"
  }
 },
 "cells": [
  {
   "cell_type": "code",
   "execution_count": null,
   "metadata": {
    "id": "QisyKw-8ALew"
   },
   "outputs": [],
   "source": [
    "# Импортируем библиотеку для работы с графами и не только\n",
    "import networkx as nx\n",
    "import numpy as np\n",
    "import pandas as pd\n",
    "import matplotlib.pyplot as plt\n",
    "import itertools\n",
    "from statistics import mean\n",
    "from scipy.io import mmread\n",
    "import pydot\n",
    "import pip\n",
    "from tqdm import tqdm\n",
    "import seaborn as sns\n",
    "import nbconvert\n"
   ]
  },
  {
   "cell_type": "code",
   "source": [
    "# ---------------------------\n",
    "# Задание 1\n",
    " \n",
    " G = nx.read_edgelist('CA-AstroPh.txt', create_using=nx.Graph(nodetype = int))"
   ],
   "metadata": {
    "id": "9Hn7o7YiAQga"
   },
   "execution_count": null,
   "outputs": []
  },
  {
   "cell_type": "code",
   "source": [
    "nodes = G.number_of_nodes()\n",
    "print('Количество вершин:', G.number_of_nodes()) # выводим количество вершин\n",
    "print('Количество рёбер:', G.number_of_edges()) # выводим количество ребер\n",
    "print('Плотность: ', G.number_of_edges() / ((nodes * (nodes - 1)) / 2))"
   ],
   "metadata": {
    "colab": {
     "base_uri": "https://localhost:8080/"
    },
    "id": "0AadBy3uDhAo",
    "outputId": "856d8aa6-1595-412c-92b5-1aad54d701c6"
   },
   "execution_count": null,
   "outputs": [
    {
     "output_type": "stream",
     "name": "stdout",
     "text": [
      "Количество вершин: 18772\n",
      "Количество рёбер: 198110\n",
      "Плотность:  0.0011244455715955115\n"
     ]
    }
   ]
  },
  {
   "cell_type": "code",
   "source": [
    "nwcc = nx.number_connected_components(G)\n",
    "print( \"\\nЧисло компонент слабой связности: \", nwcc)\n",
    "\n",
    "max_connected_components = max(sorted(nx.connected_components(G), key=len, reverse=True)) # !\n",
    "#print(max_connected_components)\n",
    "print(\"Доля вершин: \", len(max_connected_components) / len(G.nodes()))\n",
    "\n",
    "\n",
    "\n",
    "# for i in max_connected_components: \n",
    "#     G_max_component.add_node(i) # Добавляем в G_max_component вершины\n",
    "\n",
    "# #for (i, j) in list(G.edges): \n",
    "#     #if i in max_connected_components and j in max_connected_components:\n",
    "#         #G_max_component.add_edge(i, j) # Добавляем в G_max_component ребра\n",
    "\n",
    "# Bigwcc_len = len(list(G_max_component))\n",
    "# counter_edgeses = 0\n",
    "# for i in G.edges:\n",
    "#     a = i[0]\n",
    "#     b = i[1]\n",
    "#     if a in list(G_max_component) and b in list(G_max_component):\n",
    "#         counter_edgeses+=1\n",
    "\n",
    "# print(\"Число вершин, принадлежащих наибольшей компоненте слабой связности:\", Bigwcc_len)\n",
    "# #print(\"Число ребер, принадлежащих наибольшей компоненте слабой связности:\", counter_edgeses)\n",
    "# print(\"Доля вершин:\", Bigwcc_len/len(G.nodes))\n",
    "# #print(\"Доля ребер:\", counter_edgeses/len(G.edges))G_node_degrees = [degree[1] for degree in G.degree()]"
   ],
   "metadata": {
    "colab": {
     "base_uri": "https://localhost:8080/"
    },
    "id": "oxnokIhsQRty",
    "outputId": "d4a4b11c-cccd-403e-8a3c-cbf86809584a"
   },
   "execution_count": null,
   "outputs": [
    {
     "output_type": "stream",
     "name": "stdout",
     "text": [
      "\n",
      "Число компонент слабой связности:  290\n",
      "Доля вершин:  0.9537076496910292\n"
     ]
    }
   ]
  },
  {
   "cell_type": "code",
   "source": [
    "# ---------------------------\n",
    "# Задание 2\n",
    "\n",
    "G_node_degrees = [degree[1] for degree in G.degree()]\n",
    "\n",
    "print(f'Минимальная степень вершины: {np.min(G_node_degrees)}', \n",
    "      f'Максимальная степень вершины: {np.max(G_node_degrees)}',  \n",
    "      f'Средняя степень вершины: {np.mean(G_node_degrees)}', sep='\\n')\n",
    "\n",
    "sr_st = np.mean(G_node_degrees)\n",
    "\n",
    "#print(G.degree) # выводим список из пар (имя_вершины, кол-во рёбер исходящих из нее)\n",
    "ls = G.degree # завели этот список в переменную для дальнейшей работы\n",
    "\n",
    "# далее считаем количество вершин, у которых степень больше среднего\n",
    "\n",
    "count = 0 # до начала работы счётчик = 0\n",
    "for i in ls: # цикл, где каждый раз i принимает значение (т.е. пару) из списка ls\n",
    "    if i[1] > sr_st: # если её степень, а она на втором месте в паре, больше среднего, то...\n",
    "        count = count + 1 # то счетчик увеличиваем на один\n",
    "print('Число вершин степени, превышающей среднюю:', count) "
   ],
   "metadata": {
    "colab": {
     "base_uri": "https://localhost:8080/"
    },
    "id": "tS2nVrGM_60R",
    "outputId": "5e04eb62-3f5c-494b-e1f3-e3dd441802eb"
   },
   "execution_count": null,
   "outputs": [
    {
     "output_type": "stream",
     "name": "stdout",
     "text": [
      "Минимальная степень вершины: 1\n",
      "Максимальная степень вершины: 504\n",
      "Средняя степень вершины: 21.10696782441935\n",
      "Число вершин степени, превышающей среднюю: 5594\n"
     ]
    }
   ]
  },
  {
   "cell_type": "code",
   "source": [
    "# ---------------------------\n",
    "# Задание 3\n",
    "\n",
    "G2 = G.subgraph(max(nx.connected_components(G), key=len)) # наибольшая компонента связности #!\n",
    "from random import randint\n",
    "def random_nodes(main_graph, num_nodes):\n",
    "  G2_num = nx.Graph()\n",
    "  l = list(main_graph.nodes())\n",
    "  for j in range(num_nodes):\n",
    "    i = randint(0, main_graph.number_of_nodes()-1-j)\n",
    "    a = l.pop(i)\n",
    "    G2_num.add_node(a)\n",
    "  return G2_num\n",
    "\n",
    "G2_new = random_nodes(G2, 500)\n",
    "\n",
    "#print(G2_new)\n",
    "#print(G2_new.number_of_nodes())\n",
    "\n",
    "\n",
    "# print('Радиус :', nx.radius(G2)) \n",
    "# print('Диаметр :', nx.diameter(G2))\n",
    "\n",
    "# degree_free = np.array(nx.degree_histogram(G))  # создаем массив, по которому будет строиться гистограмму\n",
    "# plt.stem(degree_free) \n",
    "# plt.xlabel('Степени') \n",
    "# plt.ylabel('Количество вершин')\n",
    "# plt.show()"
   ],
   "metadata": {
    "colab": {
     "base_uri": "https://localhost:8080/"
    },
    "id": "zKNFKvMZBZlI",
    "outputId": "b8683ff4-9535-4ce4-dcfe-3e98bbbe2716"
   },
   "execution_count": null,
   "outputs": [
    {
     "output_type": "stream",
     "name": "stdout",
     "text": [
      "Graph with 500 nodes and 0 edges\n",
      "500\n"
     ]
    }
   ]
  },
  {
   "cell_type": "code",
   "source": [
    "#print(G2.number_of_nodes())\n",
    "ls = list(G2_new.nodes)\n",
    "for i in range(len(ls)-1): # пробегаемся по первому элементу в паре, от 0 места до предпоследнего\n",
    "   for j in range(i+1, len(ls)):\n",
    "     for el in G2.edges(ls[i]):\n",
    "       if ls[j] == el[1]:\n",
    "         G2_new.add_edge(ls[i], ls[j])\n",
    "\n",
    "       #print(G2.edges(ls[i]))\n"
   ],
   "metadata": {
    "colab": {
     "base_uri": "https://localhost:8080/"
    },
    "id": "WcYef8283bmj",
    "outputId": "ba777522-6b06-4ad5-9d30-94f1ccb8d135"
   },
   "execution_count": null,
   "outputs": [
    {
     "output_type": "stream",
     "name": "stdout",
     "text": [
      "17903\n"
     ]
    }
   ]
  },
  {
   "cell_type": "code",
   "source": [
    "import pandas as pd\n",
    "#print(G2_new)\n",
    "sp = nx.all_pairs_shortest_path_length(G2_new) # собираем в неведомый контейнер самые коротки расстояния (= расстояния) для всевозможных пар\n",
    "ls2 = list() # список, где будем хранить значения расстояний, пока пустой\n",
    "a = dict(sp) # из неведомого контейнера делаем словарик, с ним удобнее работать\n",
    "#print(a)\n",
    "ls_nodes = list(G2_new.nodes) # получаем список всех вершин в нашем графе\n",
    "#print(ls_nodes)\n",
    "for i in range(len(ls_nodes)-1): # пробегаемся по первому элементу в паре, от 0 места до предпоследнего\n",
    "   for j in range(i+1, len(ls_nodes)): # по второму, от следующего после первого и до последнего\n",
    "     if ls_nodes[j] in a[ls_nodes[i]]: # а есть ли вообще такая пара? Можно ли прийти из первой вершины до второй? Есть ли расстояние?\n",
    "       ls2.append(a[ls_nodes[i]][ls_nodes[j]]) # ну если есть, то добавим её в список\n",
    "#print(ls2) \n",
    "main1 = np.array(ls2) # теперь нужен не просто список, а вектор. Там есть метод для подсчета процентиля\n",
    "#print(main1)\n",
    "#print(main1)\n",
    "main2 = np.percentile(main1, 90) # считаем процентиль\n",
    "print(main2)\n",
    "plt.hist(main1) # придаем вид для гистограммы\n",
    "plt.xlabel('Расстояние') # подписываем оси\n",
    "plt.ylabel('Количество вершин')\n",
    "plt.show() # выводим на экран\n",
    "\n"
   ],
   "metadata": {
    "colab": {
     "base_uri": "https://localhost:8080/",
     "height": 470
    },
    "id": "Jb2n9_MiVm7e",
    "outputId": "c1745f8f-4e0a-434b-8732-e7a07dafabf1"
   },
   "execution_count": null,
   "outputs": [
    {
     "output_type": "stream",
     "name": "stdout",
     "text": [
      "Graph with 500 nodes and 119 edges\n",
      "[1 6 2 4 6 3 5 5 5 3 2 4 6 3 1 6 5 4 6 1 1 2 5 3 1 3 2 1 1 4 2 2 2 3 2 1 1\n",
      " 2 1 1 2 1 1 2 1 1 2 2 1 1 2 1 1 1 1 1 1 1 5 1 3 5 2 4 4 4 2 1 3 5 1 1 1 1\n",
      " 3 1 2 6 4 3 3 3 2 1 5 4 2 2 1 2 1 1 4 6 3 5 5 5 3 2 4 6 3 2 3 1 1 3 4 2 4\n",
      " 5 4 3 5 2 4 1 4 2 1 3 2 3 1 1 1 2 4 2 2 3 3 1 2 2 1 3 1 1 2 1 2 1 1 1 1 2\n",
      " 1 1 1 2 2 1 1 3 1 1 2 2 7 6 5 7 2 2 3 6 4 1 4 1 3 3 3 3 2 2 4 3 3 1 2 5 4\n",
      " 2 3 1 1 1 2 1 1 1 1 1 1 1 1 1 1 2 1 1 1 3 2 2 5 7 4 1 3 1 3 4 6 3 2 2 2 2\n",
      " 3 2 1 2 2 3 5 2 1 1 1 2 5 7 4 1 3 1 1 1 2 1 4 2 1 2 1 2 2 2 2 1 1 3 2 2 4\n",
      " 3 1 3 1 1 1 1 1 2 2 2 1 4 3 1 2 4 2 2 1 3 3 6 4 1 2 2 4 3 1 1 1 2 1 2 1 2\n",
      " 4 5 3 2 3 1 3 1 3 3 3 1 4 1 1 1 2 1 1 3 5 2 1 1 1 2 1 2 4 2 2]\n",
      "5.0\n"
     ]
    },
    {
     "output_type": "display_data",
     "data": {
      "text/plain": [
       "<Figure size 432x288 with 1 Axes>"
      ],
      "image/png": "[encoded data removed]"
     },
     "metadata": {
      "needs_background": "light"
     }
    }
   ]
  },
  {
   "cell_type": "code",
   "source": [],
   "metadata": {
    "colab": {
     "base_uri": "https://localhost:8080/",
     "height": 522
    },
    "id": "GriwohKnFaWg",
    "outputId": "5fe8fcd6-ff5e-46e9-fa6d-bb4a6e9d9e6c"
   },
   "execution_count": null,
   "outputs": [
    {
     "output_type": "stream",
     "name": "stdout",
     "text": [
      "[0, 0, 0, 0, 0, 0, 0, 0, 0, 0, 0, 0, 0, 0, 0, 0, 0, 0] <class 'list'>\n",
      "[0, 26844, 126576, 549786, 1808990, 3828662, 4708218, 3467244, 1714424, 681594, 254116, 86492, 24664, 5710, 1172, 234, 66, 14]\n"
     ]
    },
    {
     "output_type": "display_data",
     "data": {
      "text/plain": [
       "<Figure size 1044x540 with 1 Axes>"
      ],
      "image/png": "[encoded data removed]"
     },
     "metadata": {
      "needs_background": "light"
     }
    },
    {
     "output_type": "stream",
     "name": "stdout",
     "text": [
      "90 процентов всех расстояний в выборке равняется 3575669.4\n"
     ]
    }
   ]
  },
  {
   "cell_type": "code",
   "source": [
    "# ---------------------------\n",
    "# Задание 4\n",
    "\n",
    "G = nx.Graph(G)\n",
    "\n",
    "# Число треугольников в сети\n",
    "edges = list(G.edges())\n",
    "counter_triangles = 0\n",
    "for i in G.nodes():\n",
    "    neighbors_G = list(G.neighbors(i))\n",
    "    for j in neighbors_G:\n",
    "        for k in list(G.neighbors(j)):\n",
    "            if k in neighbors_G:\n",
    "                counter_triangles += 1\n",
    "print(\"Число треугольников в сети:\", counter_triangles / 6)\n",
    "\n",
    "local_clust_k = sorted(nx.clustering(G).items())\n",
    "\n",
    "average_clust_k = nx.average_clustering(G)\n",
    "print(\"Средний кластерный коэффииент:\", average_clust_k)\n",
    "\n",
    "# Количество соседей у вершины\n",
    "neighbors_counts_list = [0] * len(G.nodes())\n",
    "   \n",
    "perem = dict(sorted(enumerate(list(G.nodes()))))\n",
    "    \n",
    "for i in dict(sorted(enumerate(list(G.nodes())))):\n",
    "    neighbors_counts_list[i - 1] = len(list(G.neighbors(perem[i])))\n",
    "# print(\"Количество соседей:\", neighbors_counts_list)\n",
    "\n",
    "# Глобальный кластерный коэффициент\n",
    "numerator = 0\n",
    "denominator = 0\n",
    "combin_neighbors = []\n",
    "\n",
    "for i in dict(sorted(enumerate(list(G.nodes())))): # число сочетаний из количества соседей у вершин по 2\n",
    "    combin_neighbors = len(list(itertools.combinations(list(range(neighbors_counts_list[i - 1])), 2)))\n",
    "    for j in neighbors_counts_list:\n",
    "        numerator += combin_neighbors * local_clust_k[i - 1][1]\n",
    "        denominator += combin_neighbors\n",
    "\n",
    "global_clust_k = numerator/denominator\n",
    "print(\"Глобальный кластерный коэфициент:\", global_clust_k)"
   ],
   "metadata": {
    "colab": {
     "base_uri": "https://localhost:8080/"
    },
    "id": "j8NxlAH3GtgX",
    "outputId": "134e9d33-5fdd-427e-e5d9-f22a9b50f7f0"
   },
   "execution_count": null,
   "outputs": [
    {
     "output_type": "stream",
     "name": "stdout",
     "text": [
      "Число треугольников в сети: 1352994.0\n",
      "Средний кластерный коэффииент: 0.6305932411707943\n",
      "Глобальный кластерный коэфициент: 0.6205854507014229\n"
     ]
    }
   ]
  },
  {
   "cell_type": "code",
   "source": [
    "# ---------------------------\n",
    "# Задание 5 и 6\n",
    "\n",
    "\n",
    "from math import log\n",
    "import matplotlib.pyplot as plt\n",
    "G = nx.DiGraph(G)\n",
    "\n",
    "degree_dict = dict(G.in_degree())\n",
    "# print(degree_dict)\n",
    "degree_list = set(degree_dict.values())\n",
    "# print(degree_list)\n",
    "\n",
    "def plot_degree_dist(G):\n",
    "    degrees = sorted([G.in_degree(n) for n in G.nodes()])\n",
    "    #print(degrees)\n",
    "    # print('Количество степеней =', len(degrees)) #Проверка что у всех вершин посмотрели степени\n",
    "    # print('Минимальная степень узла =', min(degrees))\n",
    "    # print('Максимальная степень узла =', max(degrees))\n",
    "    # print('Средняя степень узла =', round(mean(degrees), 3))\n",
    "    y = [degrees.count(i)/len(degrees) for i in degrees]\n",
    "    df = pd.DataFrame({'Степень': degrees, 'Частота': y})\n",
    "\n",
    "    #print(df)\n",
    "    \n",
    "    fig = plt.figure()\n",
    "    fig.set_size_inches(12.5, 7.5, forward = True)\n",
    "    fig.suptitle('Плотность распределения степеней вершин')\n",
    "    ax1 = df['Степень'].plot(kind='hist', density=True, bins=70)\n",
    "    ax1.grid(True)\n",
    "    ax1.set_xlabel(\"Степень вершины\")\n",
    "    ax1.set_ylabel(\"Частота\")\n",
    "    ax1.plot(style='o')\n",
    "\n",
    "    fig_log = plt.figure()\n",
    "    fig_log.set_size_inches(12.5, 7.5, forward = True)\n",
    "    fig_log.suptitle('Плотность распределения степеней вершин в log-log шкалах')\n",
    "    plt.grid(True)\n",
    "    plt.xlabel(\"Степень вершины\")\n",
    "    plt.ylabel(\"Частота\")\n",
    "\n",
    "    x = list(degrees)\n",
    "    xy = [x[i]*y[i] for i in range(len(x))]\n",
    "    x2 = [i**2 for i in x]\n",
    "    n = len(x)\n",
    "    a = (n * sum(xy) - sum(x)*sum(y)) / (n * sum(x2) - (sum(x)**2))\n",
    "    #print(a)\n",
    "    b = (sum(y) - a*sum(x)) / n\n",
    "    #print(b)\n",
    "    df['МНК'] = a*df['Степень'] + b\n",
    "    #print(df)\n",
    "    plt.plot(df['Степень'], df['МНК'], color='red')\n",
    "    plt.scatter(df['Степень'], df['Частота'])\n",
    "    plt.yscale(\"log\")\n",
    "    plt.xscale(\"log\")\n",
    "\n",
    "    fig_log = plt.figure()\n",
    "    fig_log.set_size_inches(12.5, 7.5, forward = True)\n",
    "    fig_log.suptitle('Плотность распределения степеней вершин в log-log шкалах')\n",
    "    plt.grid(True)\n",
    "    plt.plot(df['Степень'], df['МНК'], color='red')\n",
    "    plt.plot(df['Степень'], df['Частота'])\n",
    "    plt.xlabel(\"Степень вершины\")\n",
    "    plt.ylabel(\"Частота\")\n",
    "    plt.ylim(0, 0.1)\n",
    "\n",
    "\n",
    "\n",
    "    # mx1 = sum(degrees)/len(degrees)\n",
    "    # ax1 = np.dot(np.array(degrees).T, np.array(degrees))/len(degrees)\n",
    "    # y1 = [degrees.count(i)/len(degrees) for i in degrees]\n",
    "    # my1 = sum(y1)/len(degrees)\n",
    "    # ay1 = np.dot(np.array(degrees).T, np.array(y1))/len(degrees)\n",
    "    # kk1 = (ay1 - mx1*my1)/(ax1-mx1**2)\n",
    "    # bb1 = my1 - kk1*mx1\n",
    "    # ff1 = np.array([kk1*z+bb1 for z in range(len(degrees))])\n",
    "    # plt.plot(ff1, c='red')\n",
    "\n",
    "    # ax1 = s.plot(kind='hist', density=True, bins=70)\n",
    "    # ax1.grid(True)\n",
    "    # ax1.set_xlabel(\"Степень вершины\")\n",
    "    # ax1.set_ylabel(\"Частота\")\n",
    "    # ax1.plot(style='o')\n",
    "    \n",
    "    # fig_log = plt.figure()\n",
    "    # fig_log.set_size_inches(12.5, 7.5, forward = True)\n",
    "    # fig_log.suptitle('Плотность распределения степеней вершин в log-log шкалах')\n",
    "\n",
    "    # a = (n * sum(xy) - sum(x)*sum(y)) / (n * sum(x2) - sum(x2))\n",
    "    # b = (sum(y) - a*sum(x)) / n\n",
    "    # g = [a*x[i] + b for i in range(len(x))]\n",
    "    # # mx = sum(degrees)/len(degrees)\n",
    "    # # ax = np.dot(np.array(degrees).T, np.array(degrees))/len(degrees)\n",
    "    # # print(y)\n",
    "    # # my = sum(y)/len(degrees)\n",
    "    # # ay = np.dot(np.array(degrees).T, np.array(y))/len(degrees)\n",
    "    # # kk = (ay - mx*my)/(ax-mx**2)\n",
    "    # # bb = my - kk*mx\n",
    "    # # ff = np.array([kk*z+bb for z in range(len(degrees))])\n",
    "    # plt.plot(g, c='red')\n",
    "    # plt.ylim()\n",
    "\n",
    "    # ax2 = s.plot(kind='scatter', style='o', density=True)\n",
    "    # ax2.grid(True)\n",
    "    # ax2.set_xlabel(\"Степень вершины\")\n",
    "    # ax2.set_ylabel(\"Частота\")\n",
    "\n",
    "plot_degree_dist(G)"
   ],
   "metadata": {
    "colab": {
     "base_uri": "https://localhost:8080/",
     "height": 1000
    },
    "id": "9LpnzYlJjrA-",
    "outputId": "5b9729ec-381c-4617-ef43-ea207aa61d6e"
   },
   "execution_count": 1,
   "outputs": [
    {
     "ename": "NameError",
     "evalue": "name 'nx' is not defined",
     "output_type": "error",
     "traceback": [
      "\u001B[1;31m---------------------------------------------------------------------------\u001B[0m",
      "\u001B[1;31mNameError\u001B[0m                                 Traceback (most recent call last)",
      "\u001B[1;32m<ipython-input-1-d02193a896b3>\u001B[0m in \u001B[0;36m<module>\u001B[1;34m\u001B[0m\n\u001B[0;32m      5\u001B[0m \u001B[1;32mfrom\u001B[0m \u001B[0mmath\u001B[0m \u001B[1;32mimport\u001B[0m \u001B[0mlog\u001B[0m\u001B[1;33m\u001B[0m\u001B[1;33m\u001B[0m\u001B[0m\n\u001B[0;32m      6\u001B[0m \u001B[1;32mimport\u001B[0m \u001B[0mmatplotlib\u001B[0m\u001B[1;33m.\u001B[0m\u001B[0mpyplot\u001B[0m \u001B[1;32mas\u001B[0m \u001B[0mplt\u001B[0m\u001B[1;33m\u001B[0m\u001B[1;33m\u001B[0m\u001B[0m\n\u001B[1;32m----> 7\u001B[1;33m \u001B[0mG\u001B[0m \u001B[1;33m=\u001B[0m \u001B[0mnx\u001B[0m\u001B[1;33m.\u001B[0m\u001B[0mDiGraph\u001B[0m\u001B[1;33m(\u001B[0m\u001B[0mG\u001B[0m\u001B[1;33m)\u001B[0m\u001B[1;33m\u001B[0m\u001B[1;33m\u001B[0m\u001B[0m\n\u001B[0m\u001B[0;32m      8\u001B[0m \u001B[1;33m\u001B[0m\u001B[0m\n\u001B[0;32m      9\u001B[0m \u001B[0mdegree_dict\u001B[0m \u001B[1;33m=\u001B[0m \u001B[0mdict\u001B[0m\u001B[1;33m(\u001B[0m\u001B[0mG\u001B[0m\u001B[1;33m.\u001B[0m\u001B[0min_degree\u001B[0m\u001B[1;33m(\u001B[0m\u001B[1;33m)\u001B[0m\u001B[1;33m)\u001B[0m\u001B[1;33m\u001B[0m\u001B[1;33m\u001B[0m\u001B[0m\n",
      "\u001B[1;31mNameError\u001B[0m: name 'nx' is not defined"
     ]
    }
   ]
  },
  {
   "cell_type": "code",
   "source": [],
   "metadata": {
    "id": "fujsFfxFlPO0"
   },
   "execution_count": null,
   "outputs": []
  }
 ]
}